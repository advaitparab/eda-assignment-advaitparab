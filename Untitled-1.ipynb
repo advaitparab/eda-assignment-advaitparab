{
 "cells": [
  {
   "cell_type": "markdown",
   "id": "2fbf9d0e",
   "metadata": {},
   "source": [
    "# Import Required Libraries\n",
    "Import the necessary libraries, including pandas, matplotlib, and seaborn."
   ]
  },
  {
   "cell_type": "code",
   "execution_count": null,
   "id": "49fa4913",
   "metadata": {},
   "outputs": [],
   "source": [
    "# Import Required Libraries\n",
    "import pandas as pd\n",
    "import matplotlib.pyplot as plt\n",
    "import seaborn as sns"
   ]
  },
  {
   "cell_type": "markdown",
   "id": "edceff0f",
   "metadata": {},
   "source": [
    "# Load the Dataset\n",
    "Load the dataset into a pandas DataFrame and display the first few rows to confirm successful loading."
   ]
  },
  {
   "cell_type": "code",
   "execution_count": null,
   "id": "355d1ef2",
   "metadata": {},
   "outputs": [],
   "source": [
    "# Load the dataset\n",
    "# Assuming the dataset is located in the \"data\" folder and named \"housing.csv\"\n",
    "housing = pd.read_csv('data/housing.csv')\n",
    "\n",
    "# Display the first few rows of the dataset\n",
    "housing.head()"
   ]
  },
  {
   "cell_type": "markdown",
   "id": "244b6bc3",
   "metadata": {},
   "source": [
    "# Plot Histograms for All Numerical Features\n",
    "Use the DataFrame's hist() method to plot histograms for all numerical features in the dataset, setting the bin size to 50."
   ]
  },
  {
   "cell_type": "code",
   "execution_count": null,
   "id": "e9b96b5d",
   "metadata": {},
   "outputs": [],
   "source": [
    "# Plot histograms for all numerical features\n",
    "housing.hist(bins=50, figsize=(20, 15))\n",
    "plt.tight_layout()\n",
    "plt.show()"
   ]
  }
 ],
 "metadata": {
  "language_info": {
   "name": "python"
  }
 },
 "nbformat": 4,
 "nbformat_minor": 5
}
