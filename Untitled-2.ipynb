{
 "cells": [
  {
   "cell_type": "markdown",
   "id": "453c656b",
   "metadata": {},
   "source": [
    "# Plot Housing Data on a Map of California Using Plotly\n",
    "\n",
    "This notebook demonstrates how to visualize housing data on a map of California using Plotly."
   ]
  },
  {
   "cell_type": "markdown",
   "id": "312053e0",
   "metadata": {},
   "source": [
    "## Import Required Libraries\n",
    "\n",
    "Import necessary libraries such as pandas and plotly.express."
   ]
  },
  {
   "cell_type": "code",
   "execution_count": null,
   "id": "c73b3f2e",
   "metadata": {},
   "outputs": [],
   "source": [
    "# Import Required Libraries\n",
    "import pandas as pd\n",
    "import plotly.express as px"
   ]
  },
  {
   "cell_type": "markdown",
   "id": "a4fc2759",
   "metadata": {},
   "source": [
    "## Load the Dataset\n",
    "\n",
    "Load the housing dataset from the `data/housing.csv` file into a pandas DataFrame."
   ]
  },
  {
   "cell_type": "code",
   "execution_count": null,
   "id": "202f60f8",
   "metadata": {},
   "outputs": [],
   "source": [
    "# Load the dataset into a pandas DataFrame\n",
    "housing = pd.read_csv('data/housing.csv')\n",
    "\n",
    "# Display the first few rows of the dataset to confirm it loaded correctly\n",
    "housing.head()"
   ]
  },
  {
   "cell_type": "markdown",
   "id": "4fc46d5e",
   "metadata": {},
   "source": [
    "## Prepare Data for Mapping\n",
    "\n",
    "Ensure the dataset contains latitude and longitude columns for plotting."
   ]
  },
  {
   "cell_type": "code",
   "execution_count": null,
   "id": "4f8fee73",
   "metadata": {},
   "outputs": [],
   "source": [
    "# Check if the dataset contains latitude and longitude columns\n",
    "if 'latitude' in housing.columns and 'longitude' in housing.columns:\n",
    "    print(\"Dataset contains latitude and longitude columns.\")\n",
    "else:\n",
    "    raise ValueError(\"The dataset does not contain latitude and longitude columns.\")"
   ]
  },
  {
   "cell_type": "markdown",
   "id": "26a7e0cf",
   "metadata": {},
   "source": [
    "## Plot Data on a Map Using Plotly\n",
    "\n",
    "Use `plotly.express.scatter_mapbox` to plot the data on a map of California. Configure the map style and set appropriate parameters like latitude, longitude, and color."
   ]
  },
  {
   "cell_type": "code",
   "execution_count": null,
   "id": "d983449e",
   "metadata": {},
   "outputs": [],
   "source": [
    "# Plot the data on a map of California using Plotly\n",
    "fig = px.scatter_mapbox(\n",
    "    housing,\n",
    "    lat='latitude',\n",
    "    lon='longitude',\n",
    "    color='median_house_value',\n",
    "    size='population',\n",
    "    hover_name='ocean_proximity',\n",
    "    hover_data=['median_income', 'housing_median_age'],\n",
    "    title=\"Housing Data in California\",\n",
    "    mapbox_style=\"carto-positron\",\n",
    "    zoom=6,\n",
    "    height=600\n",
    ")\n",
    "\n",
    "# Display the map\n",
    "fig.show()"
   ]
  }
 ],
 "metadata": {
  "language_info": {
   "name": "python"
  }
 },
 "nbformat": 4,
 "nbformat_minor": 5
}
